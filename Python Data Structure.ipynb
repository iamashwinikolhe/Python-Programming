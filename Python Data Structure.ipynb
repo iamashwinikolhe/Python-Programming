{
 "cells": [
  {
   "attachments": {},
   "cell_type": "markdown",
   "metadata": {},
   "source": [
    "# Data Structures\n",
    "Python provides a variety of useful built-in data structures, such as lists, sets, and dictionaries."
   ]
  },
  {
   "attachments": {},
   "cell_type": "markdown",
   "metadata": {},
   "source": [
    "# What Is a List?\n",
    "A list is a collection of items in a particular order. You can make a list that\n",
    "includes the letters of the alphabet, the digits from 0–9.\n",
    "A list usually contains more than one element, it’s a good idea to make the name of your list plural, such as letters, digits, or names.\n",
    "\n",
    "In Python, square brackets [] indicate a list, and individual elements in the list are separated by commas."
   ]
  },
  {
   "attachments": {},
   "cell_type": "markdown",
   "metadata": {},
   "source": [
    "![text](list.png)"
   ]
  },
  {
   "cell_type": "code",
   "execution_count": 19,
   "metadata": {},
   "outputs": [
    {
     "name": "stdout",
     "output_type": "stream",
     "text": [
      "['honda', 'yamaha', 'suzuki']\n",
      "3\n",
      "yamaha\n"
     ]
    }
   ],
   "source": [
    "motorcycles = ['honda', 'yamaha', 'suzuki']\n",
    "print(motorcycles)\n",
    "print(len(motorcycles))\n",
    "print(motorcycles[1])"
   ]
  },
  {
   "attachments": {},
   "cell_type": "markdown",
   "metadata": {},
   "source": [
    "to add a single data item to the end of your list (using the append() method), \n",
    "\n",
    "to add a data item at a specific slot location (using the insert() method)\n",
    "\n",
    "Add a collection of data items to the end of your list (thanks to the extend() method)"
   ]
  },
  {
   "cell_type": "code",
   "execution_count": 28,
   "metadata": {},
   "outputs": [
    {
     "name": "stdout",
     "output_type": "stream",
     "text": [
      "['honda', 'yamaha', 'ather', 'ducati', 'ather', 'ducati']\n"
     ]
    }
   ],
   "source": [
    "motorcycles.append(\"ducati\")\n",
    "print(motorcycles)"
   ]
  },
  {
   "cell_type": "code",
   "execution_count": 29,
   "metadata": {},
   "outputs": [
    {
     "name": "stdout",
     "output_type": "stream",
     "text": [
      "['honda', 'yamaha', 'ather', 'ducati', 'ather', 'ducati', 'ather', 'ola']\n"
     ]
    }
   ],
   "source": [
    "motorcycles.extend([\"ather\", \"ola\"])    # It’s another list: items separated by commas, surrounded by square brackets.\n",
    "print(motorcycles)"
   ]
  },
  {
   "cell_type": "code",
   "execution_count": 39,
   "metadata": {},
   "outputs": [
    {
     "name": "stdout",
     "output_type": "stream",
     "text": [
      "['KTM', 'honda', 'ather', 'ducati', 'ather']\n"
     ]
    }
   ],
   "source": [
    "motorcycles.insert(0, \"KTM\")\n",
    "print(motorcycles)"
   ]
  },
  {
   "attachments": {},
   "cell_type": "markdown",
   "metadata": {},
   "source": [
    "find and remove a specific data item from your list (with the remove() method) \n",
    "\n",
    "remove data from the end of your list (with the pop() method)"
   ]
  },
  {
   "cell_type": "code",
   "execution_count": 40,
   "metadata": {},
   "outputs": [
    {
     "name": "stdout",
     "output_type": "stream",
     "text": [
      "['honda', 'ather', 'ducati', 'ather']\n",
      "['honda', 'ather', 'ather']\n",
      "honda\n"
     ]
    }
   ],
   "source": [
    "motorcycles.remove(\"KTM\")  # Removing an Item by Value\n",
    "print(motorcycles)\n",
    "\n",
    "del motorcycles[2]  # if we know the index of item to remove \n",
    "print(motorcycles)\n",
    "\n",
    "first_owned = motorcycles.pop(0)  # Popping Item from any Position in a List\n",
    "print(first_owned)"
   ]
  },
  {
   "attachments": {},
   "cell_type": "markdown",
   "metadata": {},
   "source": [
    "You can no longer access the value that was removed from the list after the **del** statement is used.\n",
    "\n",
    "The **remove()** method deletes only the first occurrence of the value you specify. \n",
    "\n"
   ]
  },
  {
   "cell_type": "code",
   "execution_count": 44,
   "metadata": {},
   "outputs": [
    {
     "name": "stdout",
     "output_type": "stream",
     "text": [
      "['KTM', 'ather', 'ather']\n"
     ]
    }
   ],
   "source": [
    "motorcycles.insert(1, \"KTM\")\n",
    "print(motorcycles)\n",
    "\n",
    "motorcycles.remove(\"KTM\")  \n",
    "print(motorcycles)"
   ]
  },
  {
   "cell_type": "code",
   "execution_count": 53,
   "metadata": {},
   "outputs": [
    {
     "name": "stdout",
     "output_type": "stream",
     "text": [
      "[['a', 'b', 11], ['c', 'd', 12], ['e', 'f', 13]]\n",
      "d\n"
     ]
    }
   ],
   "source": [
    "list_1 = ['a', 'b', 11]  # list of list\n",
    "list_2 = ['c', 'd', 12]\n",
    "list_3 = ['e', 'f', 13]\n",
    "list = [list_1, list_2, list_3]\n",
    "print(list)\n",
    "print(list[1][1])"
   ]
  },
  {
   "attachments": {},
   "cell_type": "markdown",
   "metadata": {},
   "source": [
    "Sorting a List Permanently with the sort() Method"
   ]
  },
  {
   "cell_type": "code",
   "execution_count": 54,
   "metadata": {},
   "outputs": [
    {
     "name": "stdout",
     "output_type": "stream",
     "text": [
      "['audi', 'bmw', 'subaru', 'toyota']\n"
     ]
    }
   ],
   "source": [
    "cars = ['bmw', 'audi', 'toyota', 'subaru']\n",
    "cars.sort()\n",
    "print(cars)"
   ]
  },
  {
   "cell_type": "code",
   "execution_count": 56,
   "metadata": {},
   "outputs": [
    {
     "name": "stdout",
     "output_type": "stream",
     "text": [
      "['toyota', 'subaru', 'bmw', 'audi']\n",
      "['audi', 'bmw', 'subaru', 'toyota']\n"
     ]
    }
   ],
   "source": [
    "cars = ['bmw', 'audi', 'toyota', 'subaru']\n",
    "cars.sort(reverse=True)\n",
    "print(cars)\n",
    "\n",
    "cars.reverse()\n",
    "print(cars)"
   ]
  },
  {
   "attachments": {},
   "cell_type": "markdown",
   "metadata": {},
   "source": [
    "Finding the Length of a List"
   ]
  },
  {
   "cell_type": "code",
   "execution_count": 57,
   "metadata": {},
   "outputs": [
    {
     "data": {
      "text/plain": [
       "4"
      ]
     },
     "execution_count": 57,
     "metadata": {},
     "output_type": "execute_result"
    }
   ],
   "source": [
    "cars = ['bmw', 'audi', 'toyota', 'subaru']\n",
    "len(cars)"
   ]
  },
  {
   "attachments": {},
   "cell_type": "markdown",
   "metadata": {},
   "source": [
    "# What is a Tuples?\n",
    "\n",
    "Lists work well for storing sets of items that can change throughout the life of a program. The ability to modify lists is particularly important when you’re working with a list of users on a website or a list of characters in a game.\n",
    "\n",
    "However, sometimes you’ll want to create a list of items that cannot change\n",
    "\n",
    "Tuples allow you to do just that. Python refers to values that cannot change as **immutable**, and an immutable list is called a tuple."
   ]
  },
  {
   "attachments": {},
   "cell_type": "markdown",
   "metadata": {},
   "source": [
    "### Defining a Tuple\n",
    "\n",
    "A tuple looks just like a list except you use parentheses instead of square brackets. Once you define a tuple, you can access individual elements by using each item’s index, just as you would for a list."
   ]
  },
  {
   "cell_type": "code",
   "execution_count": 58,
   "metadata": {},
   "outputs": [
    {
     "name": "stdout",
     "output_type": "stream",
     "text": [
      "200\n",
      "50\n"
     ]
    }
   ],
   "source": [
    "dimensions = (200, 50)\n",
    "print(dimensions[0])\n",
    "print(dimensions[1])"
   ]
  },
  {
   "cell_type": "code",
   "execution_count": 59,
   "metadata": {},
   "outputs": [
    {
     "ename": "TypeError",
     "evalue": "'tuple' object does not support item assignment",
     "output_type": "error",
     "traceback": [
      "\u001b[1;31m---------------------------------------------------------------------------\u001b[0m",
      "\u001b[1;31mTypeError\u001b[0m                                 Traceback (most recent call last)",
      "\u001b[1;32mc:\\Users\\uif19345\\Documents\\AE\\My Python Sessions\\Python Data Structure.ipynb Cell 22\u001b[0m in \u001b[0;36m<cell line: 2>\u001b[1;34m()\u001b[0m\n\u001b[0;32m      <a href='vscode-notebook-cell:/c%3A/Users/uif19345/Documents/AE/My%20Python%20Sessions/Python%20Data%20Structure.ipynb#X64sZmlsZQ%3D%3D?line=0'>1</a>\u001b[0m dimensions \u001b[39m=\u001b[39m (\u001b[39m200\u001b[39m, \u001b[39m50\u001b[39m)\n\u001b[1;32m----> <a href='vscode-notebook-cell:/c%3A/Users/uif19345/Documents/AE/My%20Python%20Sessions/Python%20Data%20Structure.ipynb#X64sZmlsZQ%3D%3D?line=1'>2</a>\u001b[0m dimensions[\u001b[39m0\u001b[39m] \u001b[39m=\u001b[39m \u001b[39m250\u001b[39m\n",
      "\u001b[1;31mTypeError\u001b[0m: 'tuple' object does not support item assignment"
     ]
    }
   ],
   "source": [
    "dimensions = (200, 50)\n",
    "dimensions[0] = 250"
   ]
  },
  {
   "cell_type": "code",
   "execution_count": 60,
   "metadata": {},
   "outputs": [
    {
     "name": "stdout",
     "output_type": "stream",
     "text": [
      "Original dimensions:\n",
      "(200, 50)\n",
      "\n",
      "Modified dimensions:\n",
      "(400, 100)\n"
     ]
    }
   ],
   "source": [
    "dimensions = (200, 50)\n",
    "print(\"Original dimensions:\")\n",
    "print(dimensions)\n",
    "\n",
    "dimensions = (400, 100)\n",
    "print(\"\\nModified dimensions:\")\n",
    "print(dimensions)"
   ]
  },
  {
   "cell_type": "code",
   "execution_count": 65,
   "metadata": {},
   "outputs": [
    {
     "name": "stdout",
     "output_type": "stream",
     "text": [
      "('Max', 28, 'New York')\n",
      "('Linda', 25, 'Miami')\n",
      "(25,)\n",
      "(1, 2, 3)\n",
      "<class 'tuple'>\n"
     ]
    }
   ],
   "source": [
    "tuple_1 = (\"Max\", 28, \"New York\")\n",
    "tuple_2 = \"Linda\", 25, \"Miami\" # Parentheses are optional\n",
    "tuple_3 = (25,) # Special case: a tuple with only one element needs to have a comma at the end, otherwise it is not recognized as tuple\n",
    "\n",
    "print(tuple_1)\n",
    "print(tuple_2)\n",
    "print(tuple_3)\n",
    "\n",
    "tuple_4 = tuple([1,2,3])\n",
    "print(tuple_4)\n",
    "print(type(tuple_3))"
   ]
  },
  {
   "cell_type": "code",
   "execution_count": 66,
   "metadata": {},
   "outputs": [
    {
     "name": "stdout",
     "output_type": "stream",
     "text": [
      "5\n",
      "2\n",
      "3\n"
     ]
    }
   ],
   "source": [
    "my_tuple = ('a','p','p','l','e',)\n",
    "\n",
    "print(len(my_tuple))        # len() : get the number of elements in a tuple\n",
    "\n",
    "print(my_tuple.count('p'))  # count(x) : Return the number of items that is equal to x\n",
    "\n",
    "print(my_tuple.index('l'))  # index(x) : Return index of first item that is equal to x"
   ]
  },
  {
   "cell_type": "code",
   "execution_count": 1,
   "metadata": {},
   "outputs": [
    {
     "name": "stdout",
     "output_type": "stream",
     "text": [
      "('a', 'b', 'c', 'd')\n",
      "['a', 'b', 'c', 'd']\n"
     ]
    }
   ],
   "source": [
    "my_list = ['a', 'b', 'c', 'd']    # convert list to a tuple and vice versa\n",
    "list_to_tuple = tuple(my_list)\n",
    "print(list_to_tuple)\n",
    "\n",
    "tuple_to_list = list(list_to_tuple)\n",
    "print(tuple_to_list)"
   ]
  },
  {
   "attachments": {},
   "cell_type": "markdown",
   "metadata": {},
   "source": [
    "Slicing"
   ]
  },
  {
   "cell_type": "code",
   "execution_count": 71,
   "metadata": {},
   "outputs": [
    {
     "name": "stdout",
     "output_type": "stream",
     "text": [
      "(2, 3)\n",
      "(3, 4, 5, 6, 7, 8, 9, 10)\n",
      "(1, 2, 3)\n",
      "(1, 3, 5, 7, 9)\n",
      "(10, 9, 8, 7, 6, 5, 4, 3, 2, 1)\n"
     ]
    }
   ],
   "source": [
    "# a[start:stop:step], default step is 1\n",
    "a = (1, 2, 3, 4, 5, 6, 7, 8, 9, 10)\n",
    "\n",
    "b = a[1:3] # Note that the last index is not included\n",
    "print(b)\n",
    "\n",
    "b = a[2:] # until the end\n",
    "print(b)\n",
    "\n",
    "b = a[:3] # from beginning\n",
    "print(b)\n",
    "\n",
    "b = a[::2] # start to end with every second item\n",
    "print(b)\n",
    "\n",
    "b = a[::-1] # reverse tuple\n",
    "print(b)"
   ]
  },
  {
   "attachments": {},
   "cell_type": "markdown",
   "metadata": {},
   "source": [
    "Compare tuple and list"
   ]
  },
  {
   "cell_type": "code",
   "execution_count": 72,
   "metadata": {},
   "outputs": [
    {
     "name": "stdout",
     "output_type": "stream",
     "text": [
      "120 bytes\n",
      "80 bytes\n",
      "0.03276999999980035\n",
      "0.0063420000005862676\n"
     ]
    }
   ],
   "source": [
    "# compare the size\n",
    "import sys\n",
    "my_list = [0, 1, 2, \"hello\", True]\n",
    "my_tuple = (0, 1, 2, \"hello\", True)\n",
    "print(sys.getsizeof(my_list), \"bytes\")\n",
    "print(sys.getsizeof(my_tuple), \"bytes\")\n",
    "\n",
    "# compare the execution time of a list vs. tuple creation statement\n",
    "import timeit\n",
    "print(timeit.timeit(stmt=\"[0, 1, 2, 3, 4, 5]\", number=1000000))\n",
    "print(timeit.timeit(stmt=\"(0, 1, 2, 3, 4, 5)\", number=1000000))"
   ]
  },
  {
   "attachments": {},
   "cell_type": "markdown",
   "metadata": {},
   "source": [
    "# What is a Dictionary ?  \n",
    "\n",
    "Dictionaries can be created using the flower braces or using the dict() function. You need to add the key-value pairs whenever you work with dictionaries."
   ]
  },
  {
   "attachments": {},
   "cell_type": "markdown",
   "metadata": {},
   "source": [
    "Creating a Dictionary"
   ]
  },
  {
   "cell_type": "code",
   "execution_count": 1,
   "metadata": {},
   "outputs": [
    {
     "name": "stdout",
     "output_type": "stream",
     "text": [
      "{}\n",
      "{1: 'Python', 2: 'Java'}\n"
     ]
    }
   ],
   "source": [
    "my_dict = {} #empty dictionary\n",
    "print(my_dict)\n",
    "my_dict = {1: 'Python', 2: 'Java'} #dictionary with elements\n",
    "print(my_dict)"
   ]
  },
  {
   "attachments": {},
   "cell_type": "markdown",
   "metadata": {},
   "source": [
    "Changing and Adding key, value pairs\n",
    "\n",
    "To change the values of the dictionary, you need to do that using the keys. So, you firstly access the key and then change the value accordingly."
   ]
  },
  {
   "cell_type": "code",
   "execution_count": 4,
   "metadata": {},
   "outputs": [
    {
     "name": "stdout",
     "output_type": "stream",
     "text": [
      "{'First': 'Python', 'Second': 'Java'}\n",
      "{'First': 'Python', 'Second': 'C++'}\n",
      "{'First': 'Python', 'Second': 'C++', 'Three': 'Ruby'}\n"
     ]
    }
   ],
   "source": [
    "my_dict = {'First': 'Python', 'Second':'Java'}\n",
    "print(my_dict)\n",
    "\n",
    "my_dict['Second'] = 'C++'   #changing element\n",
    "print(my_dict)\n",
    "\n",
    "my_dict['Three'] = 'Ruby'  #adding key-value pair\n",
    "print(my_dict)"
   ]
  },
  {
   "attachments": {},
   "cell_type": "markdown",
   "metadata": {},
   "source": [
    "Deleting key, value pairs\n",
    "\n",
    "To delete the values, you use the pop() function which returns the value that has been deleted.\n",
    "\n",
    "To retrieve the key-value pair, you use the popitem() function which returns a tuple of the key and value.\n",
    "\n",
    "To clear the entire dictionary, you use the clear() function."
   ]
  },
  {
   "cell_type": "code",
   "execution_count": 10,
   "metadata": {},
   "outputs": [
    {
     "name": "stdout",
     "output_type": "stream",
     "text": [
      "Original Dictionary: {'First': 'Python', 'Second': 'Java', 'Third': 'Ruby'}\n",
      "Value: Ruby\n",
      "Dictionary after pop(): {'First': 'Python', 'Second': 'Java'}\n",
      "Key, value pair: ('Second', 'Java')\n",
      "Dictionary:  {'First': 'Python'}\n",
      "Empty Dictionary:  {}\n"
     ]
    }
   ],
   "source": [
    "my_dict = {'First': 'Python', 'Second': 'Java', 'Third': 'Ruby'}\n",
    "print('Original Dictionary:', my_dict) \n",
    "\n",
    "a = my_dict.pop('Third')        # Removes the element with the specified key\n",
    "print('Value:', a)\n",
    "print('Dictionary after pop():', my_dict)\n",
    "\n",
    "b = my_dict.popitem()           # Remove last inserted key-value pair\n",
    "print('Key, value pair:', b)\n",
    "print('Dictionary: ', my_dict)\n",
    "\n",
    "my_dict.clear()                 # Removes all the elements from the dictionary\n",
    "print('Empty Dictionary: ', my_dict)"
   ]
  },
  {
   "attachments": {},
   "cell_type": "markdown",
   "metadata": {},
   "source": [
    "Accessing Elements\n",
    "\n"
   ]
  },
  {
   "cell_type": "code",
   "execution_count": 21,
   "metadata": {},
   "outputs": [
    {
     "name": "stdout",
     "output_type": "stream",
     "text": [
      "ARS540\n",
      "ARS430\n",
      "dict_keys(['1', '2', '3'])\n",
      "dict_values(['ARS540', 'ARS430', 'SRR520'])\n",
      "dict_items([('1', 'ARS540'), ('2', 'ARS430'), ('3', 'SRR520')])\n"
     ]
    }
   ],
   "source": [
    "my_dict = {'1':'ARS540', '2':'ARS430', '3':'SRR520'}\n",
    "print(my_dict['1'])          # access elements using keys\n",
    "\n",
    "print(my_dict.get('2'))     # Returns specified key value\n",
    "\n",
    "print(my_dict.keys())           # Returns a list containing the dictionary's keys\n",
    "print(my_dict.values())         # Returns values lists in the dictionary\n",
    "print(my_dict.items())          # get key-value pairs\n"
   ]
  },
  {
   "attachments": {},
   "cell_type": "markdown",
   "metadata": {},
   "source": [
    "# What is Sets ?  \n",
    "\n",
    "Sets are a collection of unordered elements that are unique. Meaning that even if the data is repeated more than one time, it would be entered into the set only once\n",
    "\n",
    "Creating a set"
   ]
  },
  {
   "cell_type": "code",
   "execution_count": 33,
   "metadata": {},
   "outputs": [
    {
     "name": "stdout",
     "output_type": "stream",
     "text": [
      "Empty Set:  set()\n",
      "Set with values:  {'two', 7, 8, 10.6, 11}\n",
      "Set with values:  {'two', 7, 8, 10.6, 11}\n"
     ]
    }
   ],
   "source": [
    "distances = set()\n",
    "print(\"Empty Set: \", distances)\n",
    "\n",
    "distances = {10.6, 11, 8, 10.6, \"two\", 7} \n",
    "print(\"Set with values: \",distances)\n",
    "\n",
    "distances = {10.6, 11, 8, 10.6, \"two\", 7, \"two\"}  # Any duplicates in the supplied list of data values are ignored.\n",
    "print(\"Set with values: \",distances)\n"
   ]
  },
  {
   "attachments": {},
   "cell_type": "markdown",
   "metadata": {},
   "source": [
    "Adding elements to set"
   ]
  },
  {
   "cell_type": "code",
   "execution_count": 35,
   "metadata": {},
   "outputs": [
    {
     "name": "stdout",
     "output_type": "stream",
     "text": [
      "{1, 2, 3, 4}\n"
     ]
    }
   ],
   "source": [
    "my_set = {1, 2, 3}\n",
    "my_set.add(4)           # add element to set\n",
    "print(my_set)"
   ]
  },
  {
   "attachments": {},
   "cell_type": "markdown",
   "metadata": {},
   "source": [
    "Operations in sets \n",
    "\n",
    "The different operations on set such as union, intersection and so on are shown below."
   ]
  },
  {
   "cell_type": "code",
   "execution_count": 40,
   "metadata": {},
   "outputs": [
    {
     "name": "stdout",
     "output_type": "stream",
     "text": [
      "{1, 2, 3, 4, 5, 6} ---------- {1, 2, 3, 4, 5, 6}\n",
      "{3, 4} ---------- {3, 4}\n",
      "{1, 2} ---------- {1, 2}\n",
      "{1, 2, 5, 6} ---------- {1, 2, 5, 6}\n",
      "set()\n"
     ]
    }
   ],
   "source": [
    "my_set_1 = {1, 2, 3, 4}\n",
    "my_set_2 = {3, 4, 5, 6}\n",
    "\n",
    "print(my_set_1.union(my_set_2), '----------', my_set_1 | my_set_2)\n",
    "print(my_set_1.intersection(my_set_2), '----------', my_set_1 & my_set_2)\n",
    "print(my_set_1.difference(my_set_2), '----------', my_set_1 - my_set_2)\n",
    "print(my_set_1.symmetric_difference(my_set_2), '----------', my_set_1 ^ my_set_2)\n",
    "my_set_1.clear()\n",
    "print(my_set_1)"
   ]
  }
 ],
 "metadata": {
  "kernelspec": {
   "display_name": "Python 3",
   "language": "python",
   "name": "python3"
  },
  "language_info": {
   "codemirror_mode": {
    "name": "ipython",
    "version": 3
   },
   "file_extension": ".py",
   "mimetype": "text/x-python",
   "name": "python",
   "nbconvert_exporter": "python",
   "pygments_lexer": "ipython3",
   "version": "3.9.6 (tags/v3.9.6:db3ff76, Jun 28 2021, 15:26:21) [MSC v.1929 64 bit (AMD64)]"
  },
  "orig_nbformat": 4,
  "vscode": {
   "interpreter": {
    "hash": "f5e714d59357b68dc9bbedf81c6c43d4200dbbef63b7b1420345dd5e39847a38"
   }
  }
 },
 "nbformat": 4,
 "nbformat_minor": 2
}
