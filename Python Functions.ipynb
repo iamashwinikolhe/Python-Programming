{
 "cells": [
  {
   "attachments": {},
   "cell_type": "markdown",
   "metadata": {},
   "source": [
    "# Python Functions\n",
    "\n",
    "A function is a block of code which is used to perform some action, and it is also called as reusable code. A function provides higher modularity and code re-usability."
   ]
  },
  {
   "attachments": {},
   "cell_type": "markdown",
   "metadata": {},
   "source": [
    "Defining a Function"
   ]
  },
  {
   "attachments": {},
   "cell_type": "markdown",
   "metadata": {},
   "source": [
    "![text](function.png)"
   ]
  },
  {
   "cell_type": "code",
   "execution_count": 2,
   "metadata": {},
   "outputs": [
    {
     "name": "stdout",
     "output_type": "stream",
     "text": [
      "Hello!\n"
     ]
    }
   ],
   "source": [
    "def greet_user():\n",
    "    print(\"Hello!\")\n",
    "greet_user()"
   ]
  },
  {
   "attachments": {},
   "cell_type": "markdown",
   "metadata": {},
   "source": [
    "Arguments in Python Functions\n",
    "\n",
    "While defining a function in Python, you can pass argument(s) into the function by putting them inside the parenthesis.\n",
    "\n",
    "When the function is called, then you need to specify a value for the arguments."
   ]
  },
  {
   "attachments": {},
   "cell_type": "markdown",
   "metadata": {},
   "source": [
    "![text](function-1.PNG)"
   ]
  },
  {
   "cell_type": "code",
   "execution_count": 18,
   "metadata": {},
   "outputs": [
    {
     "name": "stdout",
     "output_type": "stream",
     "text": [
      "Hello, I am a func with no argument \n",
      "\n",
      "Addition =  16\n",
      "Subtraction =  2\n",
      "Multiplication =  63\n",
      "Division =  1.2857142857142858\n"
     ]
    }
   ],
   "source": [
    "## def functionName(arg1, arg2):\n",
    "def display():\n",
    "    print(\"Hello, I am a func with no argument \\n\")\n",
    "\n",
    "def arithmatic_op(arg1, arg2):\n",
    "    print(\"Addition = \",(arg1+arg2))\n",
    "    print(\"Subtraction = \",(arg1-arg2))\n",
    "    print(\"Multiplication = \",(arg1*arg2))\n",
    "    print(\"Division = \",(arg1/arg2))\n",
    "\n",
    "display()\n",
    "arithmatic_op(9,7)"
   ]
  },
  {
   "cell_type": "code",
   "execution_count": 31,
   "metadata": {},
   "outputs": [
    {
     "name": "stdout",
     "output_type": "stream",
     "text": [
      "even\n",
      "odd\n"
     ]
    }
   ],
   "source": [
    "# A simple Python function to check whether x is even or odd\n",
    "\n",
    "def evenOdd(x):\n",
    "\tif (x % 2 == 0):\n",
    "\t\tprint(\"even\")\n",
    "\telse:\n",
    "\t\tprint(\"odd\")\n",
    "\n",
    "\n",
    "# Driver code to call the function\n",
    "evenOdd(48)\n",
    "evenOdd(31)\n"
   ]
  },
  {
   "attachments": {},
   "cell_type": "markdown",
   "metadata": {},
   "source": [
    "How to Use the Return Keyword?"
   ]
  },
  {
   "attachments": {},
   "cell_type": "markdown",
   "metadata": {},
   "source": [
    "![text](function-2.png)"
   ]
  },
  {
   "cell_type": "code",
   "execution_count": 16,
   "metadata": {},
   "outputs": [
    {
     "name": "stdout",
     "output_type": "stream",
     "text": [
      "40\n"
     ]
    }
   ],
   "source": [
    "def multiplyNum(num1):\n",
    "    return num1*5 \n",
    "\n",
    "result  = multiplyNum(8) # Calling a Function\n",
    "print(result)"
   ]
  },
  {
   "attachments": {},
   "cell_type": "markdown",
   "metadata": {},
   "source": [
    "The Python Standard Library\n",
    "\n",
    "https://docs.python.org/3/library/ \n",
    "\n",
    "Python’s standard library is very extensive, offering a wide range of facilities.\n",
    "\n",
    "standard library functions are the built-in functions that can be used directly in our program. For example,\n",
    "\n",
    "print() - prints the string inside the quotation marks\n",
    "\n",
    "sqrt() - returns the square root of a number\n",
    "\n",
    "pow() - returns the power of a number"
   ]
  },
  {
   "cell_type": "code",
   "execution_count": 29,
   "metadata": {},
   "outputs": [
    {
     "name": "stdout",
     "output_type": "stream",
     "text": [
      "Square Root of 4 is 2.0\n",
      "2 to the power 3 is 8\n"
     ]
    }
   ],
   "source": [
    "import math\n",
    "\n",
    "square_root = math.sqrt(4)          # sqrt computes the square root\n",
    "print(\"Square Root of 4 is\",square_root)\n",
    "\n",
    "power = pow(2, 3)       # pow() comptes the power\n",
    "print(\"2 to the power 3 is\",power)"
   ]
  },
  {
   "cell_type": "code",
   "execution_count": 6,
   "metadata": {},
   "outputs": [
    {
     "name": "stdout",
     "output_type": "stream",
     "text": [
      "['__doc__', '__loader__', '__name__', '__package__', '__spec__', 'acos', 'acosh', 'asin', 'asinh', 'atan', 'atan2', 'atanh', 'ceil', 'comb', 'copysign', 'cos', 'cosh', 'degrees', 'dist', 'e', 'erf', 'erfc', 'exp', 'expm1', 'fabs', 'factorial', 'floor', 'fmod', 'frexp', 'fsum', 'gamma', 'gcd', 'hypot', 'inf', 'isclose', 'isfinite', 'isinf', 'isnan', 'isqrt', 'lcm', 'ldexp', 'lgamma', 'log', 'log10', 'log1p', 'log2', 'modf', 'nan', 'nextafter', 'perm', 'pi', 'pow', 'prod', 'radians', 'remainder', 'sin', 'sinh', 'sqrt', 'tan', 'tanh', 'tau', 'trunc', 'ulp']\n",
      "This module provides access to the mathematical functions\n",
      "defined by the C standard.\n",
      "Return the sine of x (measured in radians).\n"
     ]
    }
   ],
   "source": [
    "import math\n",
    "print(dir(math))\n",
    "print(math.__doc__)\n",
    "print(math.sin.__doc__)"
   ]
  },
  {
   "cell_type": "code",
   "execution_count": 11,
   "metadata": {},
   "outputs": [
    {
     "name": "stdout",
     "output_type": "stream",
     "text": [
      "1.5\n",
      "2.5\n"
     ]
    }
   ],
   "source": [
    "def avg(first, *kargs):\n",
    "    result = (first + sum(kargs))/ (1 + len(kargs))\n",
    "    return(result)\n",
    "\n",
    "print(avg(1 ,2))\n",
    "print(avg(1, 2, 3, 4))"
   ]
  },
  {
   "attachments": {},
   "cell_type": "markdown",
   "metadata": {},
   "source": [
    "## What is the Main Function?\n",
    "\n",
    "Many programming languages have a special function that is automatically executed when an operating system starts to run a program. \n",
    "\n",
    "This function is usually called main() and must have a specific return type and arguments according to the language standard. \n",
    "\n",
    "On the other hand, the Python interpreter executes scripts starting at the top of the file, and there is no specific function that Python automatically executes."
   ]
  },
  {
   "attachments": {},
   "cell_type": "markdown",
   "metadata": {},
   "source": [
    "### Basic Python main()"
   ]
  },
  {
   "cell_type": "code",
   "execution_count": 14,
   "metadata": {},
   "outputs": [
    {
     "name": "stdout",
     "output_type": "stream",
     "text": [
      "hey, there. I am learning Python\n"
     ]
    }
   ],
   "source": [
    "def main():\n",
    "    print(\"hey, there. I am learning Python\")\n",
    "\n",
    "if __name__ == \"__main__\":\n",
    "    main()\n",
    "    "
   ]
  },
  {
   "cell_type": "code",
   "execution_count": 15,
   "metadata": {},
   "outputs": [
    {
     "data": {
      "text/plain": [
       "\"'__main__'\""
      ]
     },
     "execution_count": 15,
     "metadata": {},
     "output_type": "execute_result"
    }
   ],
   "source": [
    "repr(__name__)"
   ]
  },
  {
   "attachments": {},
   "cell_type": "markdown",
   "metadata": {},
   "source": [
    "![text](function-3.png)"
   ]
  },
  {
   "attachments": {},
   "cell_type": "markdown",
   "metadata": {},
   "source": [
    "Four best practices to make sure that your code can serve a dual purpose:\n",
    "\n",
    "1. Put most code into a function or class.\n",
    "2. Use__name__ to control execution of your code.\n",
    "3. Create a function called main() to contain the code you want to run.\n",
    "4. Call other functions from main()."
   ]
  },
  {
   "attachments": {},
   "cell_type": "markdown",
   "metadata": {},
   "source": [
    "Python provides us flexibility to keep any name for main method, however it’s best practice to name it as main() method. Below code is perfectly fine, however not recommended."
   ]
  },
  {
   "cell_type": "code",
   "execution_count": 22,
   "metadata": {},
   "outputs": [
    {
     "name": "stdout",
     "output_type": "stream",
     "text": [
      "Hello\n",
      "__name__ value:  __main__\n",
      "python main function\n"
     ]
    }
   ],
   "source": [
    "print(\"Hello\")\n",
    "print(\"__name__ value: \", __name__)\n",
    "\n",
    "def main1():\n",
    "    print(\"python main function\")\n",
    "\n",
    "if __name__ == '__main__':\n",
    "    main1()"
   ]
  },
  {
   "attachments": {},
   "cell_type": "markdown",
   "metadata": {},
   "source": [
    "### Quick Recap "
   ]
  },
  {
   "cell_type": "code",
   "execution_count": 9,
   "metadata": {},
   "outputs": [
    {
     "name": "stdout",
     "output_type": "stream",
     "text": [
      "I am a function\n",
      "None\n",
      "10   20\n",
      "None\n",
      "27\n",
      "2\n",
      "8\n",
      "8\n",
      "23\n"
     ]
    }
   ],
   "source": [
    "# define a basic function\n",
    "def func1():\n",
    "    print(\"I am a function\")\n",
    "\n",
    "# function that takes arguments\n",
    "def func2(arg1, arg2):\n",
    "    print(arg1, \" \", arg2)\n",
    "\n",
    "# function that returns a value\n",
    "def cube(x):\n",
    "    return x*x*x\n",
    "\n",
    "# function with default value for an argument\n",
    "def power(num, x=1):\n",
    "    result = 1\n",
    "    for i in range(x):\n",
    "        result = result * num\n",
    "    return result\n",
    "\n",
    "# function with variable number of arguments\n",
    "def multi_add(*args):\n",
    "    result = 0\n",
    "    for x in args:\n",
    "        result = result + x\n",
    "    return result\n",
    "\n",
    "\n",
    "\n",
    "print(func1())\n",
    "print(func2(10, 20))\n",
    "print(cube(3))\n",
    "print(power(2))\n",
    "print(power(2, 3))\n",
    "print(power(x=3, num=2))\n",
    "print(multi_add(4, 5, 10, 4))"
   ]
  },
  {
   "attachments": {},
   "cell_type": "markdown",
   "metadata": {},
   "source": [
    "### Importing Python Main function\n",
    "\n",
    "Calling a function from another program\n",
    "\n",
    "call a function from **functions_test1.py** into **functions_test2.py** "
   ]
  },
  {
   "attachments": {},
   "cell_type": "markdown",
   "metadata": {},
   "source": [
    "### pyc Files\n",
    "\n",
    "When you import a module, in order to speed up execution, Python will ‘compile’ the module\n",
    "and put the compiled code in a file with the same name but a .pyc extension. ‘But this is an\n",
    "interpreted language isn’t it?’ Well yes. This is not a real compilation but a conversion to\n",
    "something called ‘byte code’. Next time you import the module, Python will use this\n",
    "compiled version. If you change the source code of the compiled module, Python will notice\n",
    "and recompile it next time you use it.\n",
    "The point is that the byte code in the .pyc module will run much faster than if the module is\n",
    "interpreted every time.\n",
    "You don’t have to worry about any of this. Just ignore the .pyc files. If you delete them,\n",
    "Python will re-create them when it needs to"
   ]
  },
  {
   "attachments": {},
   "cell_type": "markdown",
   "metadata": {},
   "source": [
    "# TIY : Try It Yourself \n",
    "\n",
    "Problem_01\n",
    "\n",
    "Chef has to travel to another place. For this, he can avail any one of two cab services. Create functions, Implement logic and Run. \n",
    "\n",
    "The first cab service charges X rupees.\n",
    "\n",
    "The second cab service charges Y rupees.\n",
    "\n",
    "Chef wants to spend the minimum amount of money. Which cab service should Chef take?\n",
    "For each test case, output FIRST if the first cab service is cheaper, output SECOND if the second cab service is cheaper, output ANY if both cab services have the same price.\n",
    "\n",
    "Input : X   Y\n",
    "\n",
    "        30 65\n",
    "\n",
    "        42 42\n",
    "        \n",
    "        90 50\n",
    "\n",
    "\n"
   ]
  },
  {
   "attachments": {},
   "cell_type": "markdown",
   "metadata": {},
   "source": [
    "Problem_02 \n",
    "\n",
    "Alex and Robin participated in a coding contest, as a result of which they received N chocolates. Now they want to divide the chocolates between them equally.\n",
    "\n",
    "Can you help them by deciding if it is possible for them to divide all the \n",
    "\n",
    "N chocolates in such a way that they each get an equal number of chocolates?\n",
    "\n",
    "You cannot break a chocolate in two or more pieces.\n",
    "\n",
    "Output the answer on a new line — \"Yes\" (without quotes) if they can divide chocolates between them equally, and \"No\" (without quotes) otherwise. \n",
    "\n",
    "Input : \n",
    "        4\n",
    "        \n",
    "        10\n",
    "       \n",
    "        4\n",
    "        \n",
    "        3\n",
    "        \n",
    "        2\n"
   ]
  }
 ],
 "metadata": {
  "kernelspec": {
   "display_name": "Python 3",
   "language": "python",
   "name": "python3"
  },
  "language_info": {
   "codemirror_mode": {
    "name": "ipython",
    "version": 3
   },
   "file_extension": ".py",
   "mimetype": "text/x-python",
   "name": "python",
   "nbconvert_exporter": "python",
   "pygments_lexer": "ipython3",
   "version": "3.9.6"
  },
  "orig_nbformat": 4,
  "vscode": {
   "interpreter": {
    "hash": "f5e714d59357b68dc9bbedf81c6c43d4200dbbef63b7b1420345dd5e39847a38"
   }
  }
 },
 "nbformat": 4,
 "nbformat_minor": 2
}
