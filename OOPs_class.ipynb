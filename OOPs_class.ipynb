{
 "cells": [
  {
   "cell_type": "markdown",
   "metadata": {},
   "source": [
    "### class objects \n",
    "Create a class and object "
   ]
  },
  {
   "cell_type": "code",
   "execution_count": 69,
   "metadata": {},
   "outputs": [
    {
     "name": "stdout",
     "output_type": "stream",
     "text": [
      "start of  class Dog\n",
      "i am in Dog __init__\n",
      "My name is  Rodger\n"
     ]
    }
   ],
   "source": [
    "class Dog:\n",
    "    print(\"start of  class Dog\")\n",
    "    att1 = \"mammals\"\n",
    "    def __init__(self,name):\n",
    "        self.name = name \n",
    "        print(\"i am in Dog __init__\")\n",
    "    \n",
    "    def speak(self):\n",
    "        print(\"My name is \", self.name)\n",
    "        \n",
    "Dog_obj1 = Dog(\"Rodger\")\n",
    "Dog_obj1.speak()\n",
    "# Dog_obj2 = Dog(\"Tommy\")"
   ]
  },
  {
   "cell_type": "code",
   "execution_count": 70,
   "metadata": {},
   "outputs": [
    {
     "name": "stdout",
     "output_type": "stream",
     "text": [
      "Hi Siri\n"
     ]
    }
   ],
   "source": [
    "class Person:\n",
    "    def __init__(self, name):\n",
    "        self.name = name \n",
    "\n",
    "    def say_hi(self):\n",
    "        print(\"Hi\" , self.name)\n",
    "\n",
    "Person_obj1 = Person(\"Siri\")\n",
    "Person_obj1.say_hi()"
   ]
  },
  {
   "cell_type": "code",
   "execution_count": 71,
   "metadata": {},
   "outputs": [
    {
     "name": "stdout",
     "output_type": "stream",
     "text": [
      "Accessing 1st Dog's details\n",
      "Dog\n",
      "German Shepherd\n",
      "Brown\n",
      "Accessing 2nd Dog's details\n",
      "Dog\n",
      "Husky\n",
      "White\n",
      "Accessing class variable by using class name\n",
      "Dog\n"
     ]
    }
   ],
   "source": [
    "class Dog:\n",
    "    animal = \"Dog\"          # class variable \n",
    "    def __init__(self, breed, color):   # constructor \n",
    "        self.breed = breed              #instance variable \n",
    "        self.color = color \n",
    "    \n",
    "    \n",
    "Dog_obj1 = Dog(\"German Shepherd\", \"Brown\")\n",
    "Dog_obj2 = Dog(\"Husky\", \"White\")\n",
    "\n",
    "print(\"Accessing 1st Dog's details\")\n",
    "print(Dog_obj1.animal)\n",
    "print(Dog_obj1.breed)\n",
    "print(Dog_obj1.color)\n",
    "print(\"Accessing 2nd Dog's details\")\n",
    "print(Dog_obj2.animal)\n",
    "print(Dog_obj2.breed)\n",
    "print(Dog_obj2.color)\n",
    "print(\"Accessing class variable by using class name\")\n",
    "print(Dog.animal)"
   ]
  },
  {
   "cell_type": "code",
   "execution_count": 72,
   "metadata": {},
   "outputs": [
    {
     "name": "stdout",
     "output_type": "stream",
     "text": [
      "Husky has White color\n"
     ]
    }
   ],
   "source": [
    "class Dog:\n",
    "    animal = \"dog\"\n",
    "    def __init__(self, breed):\n",
    "        self.breed = breed \n",
    "    \n",
    "    def setColor(self, color):\n",
    "        self.color = color \n",
    "    def getColor(self):\n",
    "        print(\"{} has {} color\".format(self.breed,self.color))\n",
    "\n",
    "Dog_obj1 = Dog(\"Husky\")\n",
    "Dog_obj1.setColor(\"White\")\n",
    "Dog_obj1.getColor()\n"
   ]
  },
  {
   "cell_type": "markdown",
   "metadata": {},
   "source": [
    "Example of the parameterized constructor "
   ]
  },
  {
   "cell_type": "code",
   "execution_count": 73,
   "metadata": {},
   "outputs": [
    {
     "name": "stdout",
     "output_type": "stream",
     "text": [
      "First number =  2.5\n",
      "Second number =  3.8\n",
      "Addition =  6.3\n"
     ]
    }
   ],
   "source": [
    "class Addition:\n",
    "    first_num = 0\n",
    "    second_num = 0\n",
    "    ans = 0\n",
    "    def __init__(self,f,s):\n",
    "        self.first_num = f\n",
    "        self.second_num = s \n",
    "    def calculate(self):\n",
    "        self.ans =  self.first_num + self.second_num\n",
    "    def display(self):\n",
    "        print(\"First number = \" , self.first_num)\n",
    "        print(\"Second number = \" , self.second_num)\n",
    "        print(\"Addition = \" , self.ans)\n",
    "    \n",
    "Addition_obj1 = Addition(2.5,3.8)\n",
    "Addition_obj1.calculate()\n",
    "Addition_obj1.display()\n"
   ]
  },
  {
   "cell_type": "markdown",
   "metadata": {},
   "source": [
    "### Inheritance in Python"
   ]
  },
  {
   "cell_type": "code",
   "execution_count": 74,
   "metadata": {},
   "outputs": [
    {
     "name": "stdout",
     "output_type": "stream",
     "text": [
      "I am  Sheldon\n",
      "Joe 4002712\n",
      "I am  Joe\n"
     ]
    }
   ],
   "source": [
    "class Person(object):\n",
    "    def __init__(self, name, id):\n",
    "        self.name = name \n",
    "        self.id = id \n",
    "    \n",
    "    def display_parent(self):\n",
    "        print(\"I am \", self.name)\n",
    "\n",
    "Person_obj = Person(\"Sheldon\", 4002692)\n",
    "Person_obj.display_parent()\n",
    "\n",
    "class Employee(Person):\n",
    "    def display_child(self):\n",
    "        print(self.name, self.id)\n",
    "\n",
    "\n",
    "Employee_obj = Employee(\"Joe\", 4002712)\n",
    "Employee_obj.display_child()\n",
    "Employee_obj.display_parent()"
   ]
  },
  {
   "cell_type": "code",
   "execution_count": 77,
   "metadata": {},
   "outputs": [
    {
     "name": "stdout",
     "output_type": "stream",
     "text": [
      "salary - 200 post - SDE2\n",
      "name - Joe id - 4002700\n"
     ]
    }
   ],
   "source": [
    "class Person(object):\n",
    "    def __init__(self, name, id):\n",
    "        self.name = name \n",
    "        self.id = id \n",
    "    \n",
    "    def display_parent(self):\n",
    "        print(\"name - {} id - {}\".format(self.name, self.id))\n",
    "\n",
    "\n",
    "class Employee(Person):\n",
    "    def __init__(self, name, id, salary, designation):\n",
    "        super().__init__(name, id)\n",
    "        self.salary = salary\n",
    "        self.designation = designation\n",
    "\n",
    "    def display_child(self):\n",
    "        print(\"salary - {} post - {}\".format(self.salary, self.designation))\n",
    "    \n",
    "    # Person.__init__(name, id)\n",
    "\n",
    "# Person_obj = Person(\"Robert\", 4002600)\n",
    "# Person_obj.display_parent()\n",
    "\n",
    "Employee_obj = Employee(\"Joe\", 4002700, 200, \"SDE2\")\n",
    "Employee_obj.display_child()\n",
    "Employee_obj.display_parent()\n",
    "## error "
   ]
  },
  {
   "cell_type": "code",
   "execution_count": null,
   "metadata": {},
   "outputs": [
    {
     "name": "stdout",
     "output_type": "stream",
     "text": [
      "polygon init func  [2, 3]\n",
      "polygon init func  [20, 30]\n",
      "300.0\n",
      "the area is 300.0\n",
      "sides are =  [20, 30]\n"
     ]
    }
   ],
   "source": [
    "class Polygon:\n",
    "    def __init__(self, num_sides):\n",
    "        self.sides = num_sides\n",
    "        print(\"polygon init func \",self.sides)\n",
    "\n",
    "    def displaySides(self):\n",
    "        print(\"sides are = \", self.sides)\n",
    "\n",
    "class Triangle(Polygon):\n",
    "    def __init__(self):\n",
    "        Polygon.__init__(self, [20,30])\n",
    "        # super.__init__(self, [20,30])\n",
    "        \n",
    "    def findArea(self):\n",
    "        b,h = self.sides[0], self.sides[1]\n",
    "        area =0.5 * b * h\n",
    "        print(area)\n",
    "        print(\"the area is {}\".format(area))\n",
    "\n",
    "Polygon_obj = Polygon([2,3]) \n",
    "Triangle_obj = Triangle()\n",
    "Triangle_obj.findArea()\n",
    "Triangle_obj.displaySides()\n",
    "\n",
    "print(isinstance(Polygon_obj, Polygon))\n",
    "print(isinstance(Triangle_obj, Triangle))\n",
    "print(isinstance(Triangle_obj, Polygon))\n",
    "\n",
    "print(issubclass(Polygon, Triangle))\n",
    "print(issubclass(Triangle, Polygon))"
   ]
  },
  {
   "cell_type": "markdown",
   "metadata": {},
   "source": [
    "### super()\n"
   ]
  },
  {
   "cell_type": "code",
   "execution_count": null,
   "metadata": {},
   "outputs": [
    {
     "name": "stdout",
     "output_type": "stream",
     "text": [
      "Person __init__\n",
      "Person __init__\n",
      "Freelancer __init__\n",
      "200 William San Jose will@gmail.com\n",
      "emp name - William \n",
      "Address - San Jose \n",
      "ID - 200\n"
     ]
    }
   ],
   "source": [
    "class Person:\n",
    "    def __init__(self,ID, name , address):        # Constructor\n",
    "        self.ID = ID\n",
    "        self.name = name\n",
    "        self.address = address \n",
    "        print(\"Person __init__\")\n",
    "    def display(self):\n",
    "        print(\"emp name - {} \\nAddress - {} \\nID - {}\".format(self.name , self.address, self.ID))\n",
    "\n",
    "class Freelancer(Person):\n",
    "    def __init__(self, ID, name, address, email):\n",
    "        super().__init__(ID, name, address)\n",
    "        Person.__init__(self,ID, name , address)\n",
    "        self.ID = ID\n",
    "        self.name = name \n",
    "        self.address = address \n",
    "        self.email = email\n",
    "        print(\"Freelancer __init__\")\n",
    "       \n",
    "\n",
    "    def display_derived(self):\n",
    "        print(self.ID,self.name,self.address, self.email)\n",
    "\n",
    "Freelancer_obj = Freelancer(200, \"William\", \"San Jose\", \"will@gmail.com\")\n",
    "Freelancer_obj.display_derived()\n",
    "Freelancer_obj.display()\n"
   ]
  },
  {
   "cell_type": "markdown",
   "metadata": {},
   "source": [
    "### Super function in single inheritance "
   ]
  },
  {
   "cell_type": "code",
   "execution_count": null,
   "metadata": {},
   "outputs": [
    {
     "name": "stdout",
     "output_type": "stream",
     "text": [
      "it is a doemestic animal\n",
      "it is a mammal.\n",
      "has legs and tail\n"
     ]
    }
   ],
   "source": [
    "class Animal:\n",
    "    def __init__(self):\n",
    "        self.legs = 4\n",
    "        self.domestic = True \n",
    "        self.tail = True \n",
    "        self.mammls = True \n",
    "    def isMammals(self):\n",
    "        if self.mammls:\n",
    "            print(\"it is a mammal.\")\n",
    "    def isDomestic(self):\n",
    "        if self.domestic:\n",
    "            print(\"it is a doemestic animal\")\n",
    "\n",
    "class Dog(Animal):\n",
    "    def __init__(self):\n",
    "        super().__init__()\n",
    "    def isMammal(self):\n",
    "        super().isMammals()\n",
    "\n",
    "class Horse(Animal):\n",
    "    def __init__(self):\n",
    "        super().__init__()\n",
    "    def hasTailandLegs(self):\n",
    "        if (self.legs== 4) and (self.tail):\n",
    "            print(\"has legs and tail\")\n",
    "\n",
    "\n",
    "Dog_obj = Dog()\n",
    "Dog_obj.isDomestic()\n",
    "Dog_obj.isMammals()\n",
    "\n",
    "Horse_obj = Horse()\n",
    "Horse_obj.hasTailandLegs()"
   ]
  }
 ],
 "metadata": {
  "interpreter": {
   "hash": "f5e714d59357b68dc9bbedf81c6c43d4200dbbef63b7b1420345dd5e39847a38"
  },
  "kernelspec": {
   "display_name": "Python 3.9.6 64-bit",
   "language": "python",
   "name": "python3"
  },
  "language_info": {
   "codemirror_mode": {
    "name": "ipython",
    "version": 3
   },
   "file_extension": ".py",
   "mimetype": "text/x-python",
   "name": "python",
   "nbconvert_exporter": "python",
   "pygments_lexer": "ipython3",
   "version": "3.9.6"
  },
  "orig_nbformat": 4
 },
 "nbformat": 4,
 "nbformat_minor": 2
}
