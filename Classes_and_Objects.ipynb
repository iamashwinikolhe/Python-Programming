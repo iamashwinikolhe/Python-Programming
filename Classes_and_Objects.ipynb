{
 "cells": [
  {
   "attachments": {},
   "cell_type": "markdown",
   "metadata": {},
   "source": [
    "# Classes and Objects  \n",
    "\n",
    "Object-oriented programming is one of the most effective approaches to writing software.\n",
    "\n",
    "In object-oriented programming you write classes that represent real-world things and situations, and you create objects based on these classes. When you write a class, you define the general behavior that a whole category of objects can have.\n",
    "\n",
    "Making an object from a class is called instantiation, and you work with\n",
    "instances of a class."
   ]
  },
  {
   "attachments": {},
   "cell_type": "markdown",
   "metadata": {},
   "source": [
    "### Creating and Using a Class"
   ]
  },
  {
   "attachments": {},
   "cell_type": "markdown",
   "metadata": {},
   "source": [
    "![text](class.png)"
   ]
  },
  {
   "attachments": {},
   "cell_type": "markdown",
   "metadata": {},
   "source": [
    "Python uses **class** to create objects. Every defined class has a special method called **init()** , which allows you to control how objects are initialized.\n",
    "\n",
    "Methods within your class are defined in much the same way as functions, that is, using **def**."
   ]
  },
  {
   "attachments": {},
   "cell_type": "markdown",
   "metadata": {},
   "source": [
    "### Creating Object Instances"
   ]
  },
  {
   "attachments": {},
   "cell_type": "markdown",
   "metadata": {},
   "source": [
    "![text](class1.png)"
   ]
  },
  {
   "attachments": {},
   "cell_type": "markdown",
   "metadata": {},
   "source": [
    "### The__init__() Method\n",
    "\n",
    "A function that’s part of a class is a method.\n",
    "\n",
    "Everything you learned about functions applies to methods as well; the only practical difference for now is the way we’ll call methods.\n",
    "\n",
    "The__init__() method is a special method Python runs automatically whenever we create a new instance based on the any class. \n",
    "\n",
    "This method has two leading underscores and two trailing underscores, a convention that helps prevent Python’s default method names from conflicting with your method names.\n",
    "\n"
   ]
  },
  {
   "attachments": {},
   "cell_type": "markdown",
   "metadata": {},
   "source": [
    "### The importance of self\n",
    "\n",
    "The **self** parameter is required in the method definition, and it must come first before the other parameters. \n",
    "\n",
    "It must be included in the definition because when Python calls this__init__() method later(to create instance of class) the method call will automatically pass the self argument.\n",
    "\n",
    "Every method call associated with a class automatically passes self, which is a reference to the instance itself; it gives the individual instance access to the attributes and methods in the class."
   ]
  },
  {
   "attachments": {},
   "cell_type": "markdown",
   "metadata": {},
   "source": [
    "When you define a class you are, in effect, defining a custom factory function that you can then use in your code to create instances:"
   ]
  },
  {
   "attachments": {},
   "cell_type": "markdown",
   "metadata": {},
   "source": [
    "![text](class_obj.png)"
   ]
  },
  {
   "attachments": {},
   "cell_type": "markdown",
   "metadata": {},
   "source": [
    "When Python processes this line of code, it turns the factory function call into the following call, which identifies the class, the method (which is automatically\n",
    "set to__init__()), and the object instance being operated on:"
   ]
  },
  {
   "attachments": {},
   "cell_type": "markdown",
   "metadata": {},
   "source": [
    "![text](class_innit.png)"
   ]
  },
  {
   "attachments": {},
   "cell_type": "markdown",
   "metadata": {},
   "source": [
    "Now take another look at how the__init__() method was defined in the class:"
   ]
  },
  {
   "attachments": {},
   "cell_type": "markdown",
   "metadata": {},
   "source": [
    "![text](class_self.png)"
   ]
  },
  {
   "attachments": {},
   "cell_type": "markdown",
   "metadata": {},
   "source": [
    "The target identifer is assigned to the self argument.\n",
    "\n",
    "This is a very important argument assignment. Without it, the Python interpreter can’t work out which object instance to apply the method invocation to. \n",
    "\n",
    "Note that the class code is designed to be shared among all of the object instances: the methods are shared, the attributes are not. The self argument helps\n",
    "identify which object instance’s data to work on."
   ]
  },
  {
   "attachments": {},
   "cell_type": "markdown",
   "metadata": {},
   "source": [
    "### Every method’s first argument is self\n",
    "\n",
    "Not only does the__init__() method require self as its first argument, but so does every other method defined within your class."
   ]
  },
  {
   "attachments": {},
   "cell_type": "markdown",
   "metadata": {},
   "source": [
    "![text](class_self1.png)"
   ]
  },
  {
   "attachments": {},
   "cell_type": "markdown",
   "metadata": {},
   "source": [
    "![text](class_self2.png)"
   ]
  },
  {
   "cell_type": "code",
   "execution_count": 47,
   "metadata": {},
   "outputs": [
    {
     "name": "stdout",
     "output_type": "stream",
     "text": [
      "__init__ executed\n",
      "__init__ executed\n",
      "<class 'list'>\n",
      "<class '__main__.Athlete'>\n",
      "<class '__main__.Athlete'>\n",
      "<__main__.Athlete object at 0x0000026BB99345E0>\n",
      "<__main__.Athlete object at 0x0000026BB9934370>\n"
     ]
    }
   ],
   "source": [
    "class Athlete:\n",
    "    def __init__(self, a_name, a_dob=None, a_times=[]):\n",
    "        self.name = a_name\n",
    "        self.dob = a_dob\n",
    "        self.times = a_times\n",
    "        print(\"__init__ executed\")\n",
    "\n",
    "serena = Athlete('Serena Williams', '21-Sept-1981', ['2:58', '2.58', '1.56'])\n",
    "venus = Athlete('Venus Williams')\n",
    "\n",
    "print(type(serena))     # object type \n",
    "print(type(venus))\n",
    "\n",
    "print(serena)       # These are the memory addresses on our computer\n",
    "print(venus)"
   ]
  },
  {
   "cell_type": "code",
   "execution_count": 17,
   "metadata": {},
   "outputs": [
    {
     "name": "stdout",
     "output_type": "stream",
     "text": [
      "Serena Williams\n",
      "Venus Williams\n"
     ]
    }
   ],
   "source": [
    "print(serena.name)\n",
    "print(venus.name)"
   ]
  },
  {
   "cell_type": "code",
   "execution_count": 18,
   "metadata": {},
   "outputs": [
    {
     "name": "stdout",
     "output_type": "stream",
     "text": [
      "21-Sept-1981\n",
      "None\n"
     ]
    }
   ],
   "source": [
    "print(serena.dob)\n",
    "print(venus.dob)"
   ]
  },
  {
   "cell_type": "code",
   "execution_count": 53,
   "metadata": {},
   "outputs": [
    {
     "name": "stdout",
     "output_type": "stream",
     "text": [
      "__init__ executed\n",
      "Initial timing :  []\n",
      "After adding single time(sania) :  ['1.31']\n",
      "After adding multiple time(sania) :  ['1.31', '2.22', '1.21', '2.45']\n",
      "Top score sania :  1.21\n"
     ]
    }
   ],
   "source": [
    "class Athlete:\n",
    "    def __init__(self, a_name, a_dob=None, a_times=[]):\n",
    "        self.name = a_name\n",
    "        self.dob = a_dob\n",
    "        self.times = a_times\n",
    "        print(\"__init__ executed\")\n",
    "\n",
    "    def top_score(self):\n",
    "        top_score = sorted(self.times)\n",
    "        # print(top_score)\n",
    "        return(top_score[0])\n",
    "    \n",
    "    def add_time(self, time_value):             # Take the supplied argument and append it to the existing list of timing values.\n",
    "        self.times.append(time_value)\n",
    "    \n",
    "    def add_list_time(self, list_of_times):        # Take the list of supplied arguments and extend the existing list of timing values with them.\n",
    "        self.times.extend(list_of_times)\n",
    "\n",
    "sania = Athlete('Sania Mirza')\n",
    "print(\"Initial timing : \", sania.times)\n",
    "\n",
    "sania.add_time('1.31')      # Add a single timing value\n",
    "print(\"After adding single time(sania) : \", sania.times)\n",
    "\n",
    "sania.add_list_time(['2.22', '1.21', '2.45'])    # Add multiple timing value\n",
    "print(\"After adding multiple time(sania) : \", sania.times)\n",
    "\n",
    "print('Top score sania : ',sania.top_score())\n",
    "\n"
   ]
  },
  {
   "attachments": {},
   "cell_type": "markdown",
   "metadata": {},
   "source": [
    "### Well done. This is really coming along!"
   ]
  },
  {
   "cell_type": "code",
   "execution_count": 17,
   "metadata": {},
   "outputs": [
    {
     "name": "stdout",
     "output_type": "stream",
     "text": [
      "2016 Audi a4\n",
      "This car has 0 miles on it.\n"
     ]
    }
   ],
   "source": [
    "class Car():\n",
    "    def __init__(self, make, model, year):         # nitialize attributes to describe a car.\n",
    "        self.make = make\n",
    "        self.model = model\n",
    "        self.year = year\n",
    "        self.odometer_reading = 0\n",
    "\n",
    "    def get_descriptive_name(self):\n",
    "        print(self.year, self.make, self.model)\n",
    "\n",
    "    def read_odometer(self):\n",
    "        print(\"This car has \" + str(self.odometer_reading)+ \" miles on it.\")\n",
    "\n",
    "\n",
    "my_new_car = Car('Audi', 'a4', 2016)\n",
    "my_new_car.get_descriptive_name()\n",
    "my_new_car.read_odometer()"
   ]
  },
  {
   "cell_type": "code",
   "execution_count": 18,
   "metadata": {},
   "outputs": [
    {
     "name": "stdout",
     "output_type": "stream",
     "text": [
      "This car has 23 miles on it.\n"
     ]
    }
   ],
   "source": [
    "my_new_car.odometer_reading = 23\n",
    "my_new_car.read_odometer()"
   ]
  },
  {
   "attachments": {},
   "cell_type": "markdown",
   "metadata": {},
   "source": [
    "Modifying an Attribute’s Value Through a Method\n",
    "\n",
    "It can be helpful to have methods that update certain attributes for you.\n",
    "Instead of accessing the attribute directly, you pass the new value to a\n",
    "method that handles the updating internally"
   ]
  },
  {
   "cell_type": "code",
   "execution_count": 25,
   "metadata": {},
   "outputs": [
    {
     "name": "stdout",
     "output_type": "stream",
     "text": [
      "(2016, 'audi', 'a4')\n",
      "This car has 23 miles on it.\n"
     ]
    }
   ],
   "source": [
    "class Car():\n",
    "    def __init__(self, make, model, year):         # Initialize attributes to describe a car.\n",
    "        self.make = make\n",
    "        self.model = model\n",
    "        self.year = year\n",
    "        self.odometer_reading = 0\n",
    "\n",
    "    def get_descriptive_name(self):\n",
    "        return(self.year, self.make, self.model)\n",
    "\n",
    "    def update_odometer(self, mileage):\n",
    "        self.odometer_reading = mileage\n",
    "    \n",
    "    def read_odometer(self):\n",
    "        print(\"This car has \" + str(self.odometer_reading)+ \" miles on it.\")\n",
    "\n",
    "my_new_car = Car('audi', 'a4', 2016)\n",
    "print(my_new_car.get_descriptive_name())\n",
    "my_new_car.update_odometer(23)\n",
    "my_new_car.read_odometer()"
   ]
  }
 ],
 "metadata": {
  "kernelspec": {
   "display_name": "Python 3",
   "language": "python",
   "name": "python3"
  },
  "language_info": {
   "codemirror_mode": {
    "name": "ipython",
    "version": 3
   },
   "file_extension": ".py",
   "mimetype": "text/x-python",
   "name": "python",
   "nbconvert_exporter": "python",
   "pygments_lexer": "ipython3",
   "version": "3.9.6"
  },
  "orig_nbformat": 4,
  "vscode": {
   "interpreter": {
    "hash": "f5e714d59357b68dc9bbedf81c6c43d4200dbbef63b7b1420345dd5e39847a38"
   }
  }
 },
 "nbformat": 4,
 "nbformat_minor": 2
}
