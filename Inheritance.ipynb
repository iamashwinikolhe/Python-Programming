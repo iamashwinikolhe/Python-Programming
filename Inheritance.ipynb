{
 "cells": [
  {
   "attachments": {},
   "cell_type": "markdown",
   "metadata": {},
   "source": [
    "# Inheritance"
   ]
  },
  {
   "attachments": {},
   "cell_type": "markdown",
   "metadata": {},
   "source": [
    "### What is Inheritance?\n",
    "\n",
    "Inheritance is the ability to ‘inherit’ features or attributes from already written classes into newer classes we make. These features and attributes are defined data structures and the functions we can perform with them, a.k.a. Methods. It promotes code reusability, which is considered one of the best industrial coding practices as it makes the codebase modular.\n",
    "\n",
    "In python inheritance, new class/es inherits from older class/es. The new class/es copies all the older class's functions and attributes without rewriting the syntax in the new class/es. These new classes are called derived classes, and old ones are called base classes.\n",
    "\n",
    "For example, inheritance is often used in biology to symbolize the transfer of genetic traits from parents to their children. Similarly, we have parent classes (Base classes) and child classes (derived classes). In Inheritance, we derive classes from other already existing classes. The existing classes are the parent/base classes from which the attributes and methods are inherited in the child classes."
   ]
  },
  {
   "attachments": {},
   "cell_type": "markdown",
   "metadata": {},
   "source": [
    "### Types Of Inheritance\n",
    "\n",
    "In Python, based upon the number of child and parent classes involved, there are five types of inheritance. The type of inheritance are listed below:\n",
    "\n",
    "1. Single inheritance\n",
    "\n",
    "2. Multiple Inheritance\n",
    "\n",
    "3. Multilevel inheritance\n",
    "\n",
    "4. Hybrid Inheritance \n",
    "\n",
    "5. Hierarchical Inheritance"
   ]
  },
  {
   "attachments": {},
   "cell_type": "markdown",
   "metadata": {},
   "source": [
    "### 1. Single inheritance\n",
    "\n",
    "In single inheritance, a child class inherits from a single-parent class. Here is one child class and one parent class"
   ]
  },
  {
   "attachments": {},
   "cell_type": "markdown",
   "metadata": {},
   "source": [
    "![text](single.png)"
   ]
  },
  {
   "cell_type": "code",
   "execution_count": 6,
   "metadata": {},
   "outputs": [
    {
     "name": "stdout",
     "output_type": "stream",
     "text": [
      "Inisde Vehicle class\n",
      "Inside Car class\n"
     ]
    }
   ],
   "source": [
    "class Vehicle:                          # Base class \n",
    "    def vehicle_info(self):\n",
    "        print(\"Inisde Vehicle class\")\n",
    "    \n",
    "class Car(Vehicle):                     # Child class , we have included parent class as an arguemnt in child class \n",
    "    def car_info(self):\n",
    "        print(\"Inside Car class\")\n",
    "\n",
    "car_obj = Car()               # object created\n",
    "car_obj.vehicle_info()        # calling Base class method via child object\n",
    "car_obj.car_info()            # calling Child class method  \n"
   ]
  },
  {
   "attachments": {},
   "cell_type": "markdown",
   "metadata": {},
   "source": [
    "### 2. Multiple Inheritance\n",
    "\n",
    "In multiple inheritance, one child class can inherit from multiple parent classes. So here is one child class and multiple parent classes."
   ]
  },
  {
   "attachments": {},
   "cell_type": "markdown",
   "metadata": {},
   "source": [
    "![text](multiple.png)"
   ]
  },
  {
   "cell_type": "code",
   "execution_count": 14,
   "metadata": {},
   "outputs": [
    {
     "name": "stdout",
     "output_type": "stream",
     "text": [
      "Hello Parent1\n",
      "Hello Parent2\n",
      "Hello Child\n",
      "(<class '__main__.Child'>, <class '__main__.Parent1'>, <class '__main__.Parent2'>, <class '__main__.Parent3'>, <class 'object'>)\n"
     ]
    }
   ],
   "source": [
    "class Parent1:\n",
    "    def func1(self):\n",
    "        print(\"Hello Parent1\")\n",
    "\n",
    "class Parent2:\n",
    "    def func2(self):\n",
    "        print(\"Hello Parent2\")\n",
    "\n",
    "class Parent3:\n",
    "    def func2(self):                 # the function name is same as parent2\n",
    "        print(\"Hello Parent3\")\n",
    "\n",
    "class Child(Parent1, Parent2, Parent3):\n",
    "    def func3(self):\n",
    "        print(\"Hello Child\")\n",
    "\n",
    "child_obj = Child()\n",
    "child_obj.func1()           # parent1 method called via child\n",
    "child_obj.func2()           # parent2 method called via child instead of parent3\n",
    "child_obj.func3()           # child method called\n",
    "print(Child.__mro__)        # to find the order of classes visited by the child class"
   ]
  },
  {
   "cell_type": "code",
   "execution_count": 15,
   "metadata": {},
   "outputs": [
    {
     "name": "stdout",
     "output_type": "stream",
     "text": [
      "Hello Parent1\n",
      "Hello Parent3\n",
      "Hello Child\n",
      "(<class '__main__.Child'>, <class '__main__.Parent1'>, <class '__main__.Parent3'>, <class '__main__.Parent2'>, <class 'object'>)\n"
     ]
    }
   ],
   "source": [
    "class Child(Parent1, Parent3, Parent2):\n",
    "    def func3(self):\n",
    "        print(\"Hello Child\")\n",
    "\n",
    "child_obj = Child()\n",
    "child_obj.func1()           # parent1 method called via child\n",
    "child_obj.func2()           # parent2 method called via child instead of parent3\n",
    "child_obj.func3()           # child method called\n",
    "print(Child.__mro__)        # to find the order of classes visited by the child class"
   ]
  },
  {
   "attachments": {},
   "cell_type": "markdown",
   "metadata": {},
   "source": [
    "Our Learning : If 2 parent classes have methods/attributes with the same name, only the first will be returned\n",
    "\n",
    "Python uses the __mro__ attribute to look for the methods and attributes. The order of the parent classes in this tuple determines which parent's method will be returned."
   ]
  },
  {
   "cell_type": "code",
   "execution_count": 21,
   "metadata": {},
   "outputs": [
    {
     "name": "stdout",
     "output_type": "stream",
     "text": [
      "Hello Child\n",
      "Hello Parent3\n",
      "(<class '__main__.Child'>, <class '__main__.Parent1'>, <class '__main__.Parent2'>, <class '__main__.Parent3'>, <class 'object'>)\n"
     ]
    }
   ],
   "source": [
    "class Child(Parent1, Parent2, Parent3):\n",
    "    def func3(self):\n",
    "        print(\"Hello Child\")\n",
    "        super(Parent2, self).func2()\n",
    "\n",
    "child_obj = Child()\n",
    "# child_obj.func1()           # parent1 method called via child\n",
    "# child_obj.func2()           # parent2 method called via child instead of parent3\n",
    "child_obj.func3()           # child method called\n",
    "print(Child.__mro__)        # to find the order of classes visited by the child class"
   ]
  },
  {
   "attachments": {},
   "cell_type": "markdown",
   "metadata": {},
   "source": [
    "As we can see with the help of **mro**, the child class first visits itself, then the first parent class, referenced before the second parent class. Similarly, it visits the second parent class before the third parent class, and that’s why it performs the second parent’s function rather than the third parent’s. Finally, it visits any objects that may have been created."
   ]
  },
  {
   "attachments": {},
   "cell_type": "markdown",
   "metadata": {},
   "source": [
    "### **super()** function \n",
    "\n",
    "In child class, we can refer to parent class by using the super() function. The super function returns a temporary object of the parent class that allows us to call a parent class method inside a child class method.\n",
    "\n",
    "Benefits of using the super() function.\n",
    "\n",
    "1. We are not required to remember or specify the parent class name to access its methods.\n",
    "\n",
    "2. We can use the super() function in both single and multiple inheritances.\n",
    "\n",
    "3. The super() function support code reusability as there is no need to write the entire function"
   ]
  },
  {
   "cell_type": "code",
   "execution_count": 29,
   "metadata": {},
   "outputs": [
    {
     "name": "stdout",
     "output_type": "stream",
     "text": [
      "Jessica works at Google\n"
     ]
    }
   ],
   "source": [
    "class Company:\n",
    "    def comapny_name(self):\n",
    "        return 'Google'\n",
    "\n",
    "class Employee(Company):\n",
    "    def info(self):\n",
    "        c_name = super().comapny_name()\n",
    "        print(\"Jessica works at\", c_name)\n",
    "\n",
    "emp = Employee()\n",
    "emp.info()\n"
   ]
  },
  {
   "cell_type": "code",
   "execution_count": 6,
   "metadata": {},
   "outputs": [
    {
     "name": "stdout",
     "output_type": "stream",
     "text": [
      "I am ElectricCar() class __init__() \n",
      "I am Car() class __init__() \n",
      "2016 Tesla Model S\n"
     ]
    }
   ],
   "source": [
    "class Car():\n",
    "    def __init__(self, make, model, year):\n",
    "        print('I am Car() class __init__() ')\n",
    "        self.make = make \n",
    "        self.model = model\n",
    "        self.year = year \n",
    "        self.odometer_reading = 0\n",
    "\n",
    "    def get_descriptive_name(self):\n",
    "        long_name = str(self.year) + ' ' + self.make + ' ' + self.model\n",
    "        return long_name.title()\n",
    "\n",
    "    def read_odometer(self):\n",
    "        print('This car has ' + str(self.odometer_reading) + ' miles on it')\n",
    "\n",
    "    def update_odometer(self, mileage):\n",
    "        if mileage >= self.odometer_reading:\n",
    "            self.odometer_reading = mileage \n",
    "        else:\n",
    "            print('You can not roll back an odometer!')\n",
    "    \n",
    "    def increment_odometer(self, miles):\n",
    "        self.odometer_reading = miles \n",
    "\n",
    "\n",
    "class ElectricCar(Car):\n",
    "    def __init__(self, make, model, year):\n",
    "        print('I am ElectricCar() class __init__() ')\n",
    "        super().__init__(make, model, year)\n",
    "\n",
    "\n",
    "my_tesla = ElectricCar('tesla', 'model s', 2016)\n",
    "print(my_tesla.get_descriptive_name())\n",
    "        "
   ]
  },
  {
   "attachments": {},
   "cell_type": "markdown",
   "metadata": {},
   "source": [
    "The **super()** function is special function that helps Python make connections between the parent and child class. This line tells Python to call the__init__() method from ElectricCar’s parent class, which gives an ElectricCar instance all the attributes of its parent class. The name super comes from a convention of calling the parent class a superclass and the child class a subclass."
   ]
  },
  {
   "attachments": {},
   "cell_type": "markdown",
   "metadata": {},
   "source": [
    "### 3. Multilevel Inheritance\n",
    "\n",
    "In multilevel inheritance, a class inherits from a child class or derived class. Suppose three classes A, B, C. A is the superclass, B is the child class of A, C is the child class of B. In other words, we can say a chain of classes is called multilevel inheritance."
   ]
  },
  {
   "attachments": {},
   "cell_type": "markdown",
   "metadata": {},
   "source": [
    "![text](multilevel.png)"
   ]
  },
  {
   "cell_type": "code",
   "execution_count": 23,
   "metadata": {},
   "outputs": [
    {
     "name": "stdout",
     "output_type": "stream",
     "text": [
      "Inside Vehicle class\n",
      "Inside Car class\n",
      "Inside SportsCar class\n"
     ]
    }
   ],
   "source": [
    "# Base class\n",
    "class Vehicle:\n",
    "    def Vehicle_info(self):\n",
    "        print('Inside Vehicle class')\n",
    "\n",
    "# Child class\n",
    "class Car(Vehicle):\n",
    "    def car_info(self):\n",
    "        print('Inside Car class')\n",
    "\n",
    "# Child class\n",
    "class SportsCar(Car):\n",
    "    def sports_car_info(self):\n",
    "        print('Inside SportsCar class')\n",
    "\n",
    "# Create object of SportsCar\n",
    "s_car = SportsCar()\n",
    "s_car.Vehicle_info()                # 3rd level calls 1st level\n",
    "s_car.car_info()                    # 3rd level calls 2nd level\n",
    "s_car.sports_car_info()             # 3rd level calls 3rd level"
   ]
  },
  {
   "attachments": {},
   "cell_type": "markdown",
   "metadata": {},
   "source": [
    "### 4. Hybrid Inheritance\n",
    "\n",
    "Hybrid Inheritance is the mixture of two or more different types of inheritance. Here we can have many relationships between parent and child classes with multiple levels."
   ]
  },
  {
   "attachments": {},
   "cell_type": "markdown",
   "metadata": {},
   "source": [
    "![text](hybrid.png)"
   ]
  },
  {
   "cell_type": "code",
   "execution_count": 25,
   "metadata": {},
   "outputs": [
    {
     "name": "stdout",
     "output_type": "stream",
     "text": [
      "Inside Vehicle class\n",
      "Inside Car class\n",
      "Inside SportsCar class\n"
     ]
    }
   ],
   "source": [
    "class Vehicle:\n",
    "    def vehicle_info(self):\n",
    "        print(\"Inside Vehicle class\")\n",
    "\n",
    "class Car(Vehicle):\n",
    "    def car_info(self):\n",
    "        print(\"Inside Car class\")\n",
    "\n",
    "class Truck(Vehicle):\n",
    "    def truck_info(self):\n",
    "        print(\"Inside Truck class\")\n",
    "\n",
    "# Sports Car can inherits properties of Vehicle and Car\n",
    "class SportsCar(Car, Vehicle):\n",
    "    def sports_car_info(self):\n",
    "        print(\"Inside SportsCar class\")\n",
    "\n",
    "\n",
    "# create object\n",
    "s_car = SportsCar()\n",
    "\n",
    "s_car.vehicle_info()\n",
    "s_car.car_info()\n",
    "s_car.sports_car_info()"
   ]
  },
  {
   "attachments": {},
   "cell_type": "markdown",
   "metadata": {},
   "source": [
    "### 5. Hierarchical Inheritance\n",
    "\n",
    "In Hierarchical inheritance, more than one child class is derived from a single parent class. In other words, we can say one parent class and multiple child classes."
   ]
  },
  {
   "attachments": {},
   "cell_type": "markdown",
   "metadata": {},
   "source": [
    "![text](hierarchical.png)"
   ]
  },
  {
   "cell_type": "code",
   "execution_count": 27,
   "metadata": {},
   "outputs": [
    {
     "name": "stdout",
     "output_type": "stream",
     "text": [
      "This is Vehicle\n",
      "Car name is: BMW\n",
      "This is Vehicle\n",
      "Truck name is: Ford\n"
     ]
    }
   ],
   "source": [
    "class Vehicle:\n",
    "    def info(self):\n",
    "        print(\"This is Vehicle\")\n",
    "\n",
    "class Car(Vehicle):\n",
    "    def car_info(self, name):\n",
    "        print(\"Car name is:\", name)\n",
    "\n",
    "class Truck(Vehicle):\n",
    "    def truck_info(self, name):\n",
    "        print(\"Truck name is:\", name)\n",
    "\n",
    "obj1 = Car()\n",
    "obj1.info()\n",
    "obj1.car_info('BMW')\n",
    "\n",
    "obj2 = Truck()\n",
    "obj2.info()\n",
    "obj2.truck_info('Ford')"
   ]
  },
  {
   "attachments": {},
   "cell_type": "markdown",
   "metadata": {},
   "source": [
    "https://www.scaler.com/topics/python/inheritance-in-python/ \n",
    "\n",
    "https://pynative.com/python-inheritance/#h-types-of-inheritance"
   ]
  }
 ],
 "metadata": {
  "kernelspec": {
   "display_name": "Python 3",
   "language": "python",
   "name": "python3"
  },
  "language_info": {
   "codemirror_mode": {
    "name": "ipython",
    "version": 3
   },
   "file_extension": ".py",
   "mimetype": "text/x-python",
   "name": "python",
   "nbconvert_exporter": "python",
   "pygments_lexer": "ipython3",
   "version": "3.9.6"
  },
  "orig_nbformat": 4,
  "vscode": {
   "interpreter": {
    "hash": "f5e714d59357b68dc9bbedf81c6c43d4200dbbef63b7b1420345dd5e39847a38"
   }
  }
 },
 "nbformat": 4,
 "nbformat_minor": 2
}
